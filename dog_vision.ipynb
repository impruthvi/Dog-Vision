{
  "nbformat": 4,
  "nbformat_minor": 0,
  "metadata": {
    "colab": {
      "name": "dog-vision.ipynb",
      "provenance": [],
      "collapsed_sections": []
    },
    "kernelspec": {
      "name": "python3",
      "display_name": "Python 3"
    },
    "language_info": {
      "name": "python"
    },
    "accelerator": "GPU"
  },
  "cells": [
    {
      "cell_type": "code",
      "metadata": {
        "id": "9O8kQogFn3Uo"
      },
      "source": [
        "# !unzip \"drive/MyDrive/Dog Vision/dog-breed-identification.zip\" -d \"drive/MyDrive/Dog Vision/\""
      ],
      "execution_count": 2,
      "outputs": []
    },
    {
      "cell_type": "code",
      "metadata": {
        "colab": {
          "base_uri": "https://localhost:8080/"
        },
        "id": "Y-Nt039LlsgY",
        "outputId": "99d73ee3-6de5-4dcb-9172-2e5fa9ba91f6"
      },
      "source": [
        "# Run this cell if TensorFlow 2.x isn't default in colab\n",
        "try:\n",
        "  # %tensorflow_version only exist in Colab\n",
        "  %tensorflow_version\n",
        "except Exception:\n",
        "  pass"
      ],
      "execution_count": 3,
      "outputs": [
        {
          "output_type": "stream",
          "text": [
            "Currently selected TF version: 2.x\n",
            "Available versions:\n",
            "* 1.x\n",
            "* 2.x\n"
          ],
          "name": "stdout"
        }
      ]
    },
    {
      "cell_type": "code",
      "metadata": {
        "colab": {
          "base_uri": "https://localhost:8080/"
        },
        "id": "e9tUO1iRrK5d",
        "outputId": "f91a0694-f0c2-4960-c824-181a1d91b069"
      },
      "source": [
        "# Import necessary tools\n",
        "import tensorflow as tf\n",
        "import tensorflow_hub as hub\n",
        "print(\"TF Version\",tf.__version__)\n",
        "print(\"TF Hub Version\",hub.__version__)\n",
        "\n",
        "# Check for GTU availability\n",
        "\n",
        "print(\"GPU\",\"Available(Yesssss)\" if tf.config.list_physical_devices(\"GPU\") else \"Not available\")"
      ],
      "execution_count": 4,
      "outputs": [
        {
          "output_type": "stream",
          "text": [
            "TF Version 2.4.1\n",
            "TF Hub Version 0.12.0\n",
            "GPU Available(Yesssss)\n"
          ],
          "name": "stdout"
        }
      ]
    },
    {
      "cell_type": "markdown",
      "metadata": {
        "id": "Kexjec6glABs"
      },
      "source": [
        "## Getting our data ready(turning into Tensors)\n",
        "\n",
        "Will all machine learning models, our data has be in numerical format.So that's what we'll be doing first.Truning our images into Tensor(numerical representations).\n",
        "\n",
        "Let's start by accessing our data and checking out that labels."
      ]
    },
    {
      "cell_type": "code",
      "metadata": {
        "colab": {
          "base_uri": "https://localhost:8080/"
        },
        "id": "v19dg3K3mfnj",
        "outputId": "b33d8aae-0798-440c-f2c8-30f71b9c7895"
      },
      "source": [
        "# Checkout the labels of our data\n",
        "import pandas as pd\n",
        "\n",
        "labels_csv = pd.read_csv(\"drive/MyDrive/Dog Vision/labels.csv\")\n",
        "print(labels_csv.describe())\n",
        "print(labels_csv.head())"
      ],
      "execution_count": 5,
      "outputs": [
        {
          "output_type": "stream",
          "text": [
            "                                      id               breed\n",
            "count                              10222               10222\n",
            "unique                             10222                 120\n",
            "top     23418e1e584a9ac9e51c1ab2c804c1a7  scottish_deerhound\n",
            "freq                                   1                 126\n",
            "                                 id             breed\n",
            "0  000bec180eb18c7604dcecc8fe0dba07       boston_bull\n",
            "1  001513dfcb2ffafc82cccf4d8bbaba97             dingo\n",
            "2  001cdf01b096e06d78e9e5112d419397          pekinese\n",
            "3  00214f311d5d2247d5dfe4fe24b2303d          bluetick\n",
            "4  0021f9ceb3235effd7fcde7f7538ed62  golden_retriever\n"
          ],
          "name": "stdout"
        }
      ]
    },
    {
      "cell_type": "code",
      "metadata": {
        "id": "2lQRXWegr0_x",
        "colab": {
          "base_uri": "https://localhost:8080/",
          "height": 195
        },
        "outputId": "cf450e4b-de07-4191-ec0f-65c9fb023e24"
      },
      "source": [
        "labels_csv.head()"
      ],
      "execution_count": 6,
      "outputs": [
        {
          "output_type": "execute_result",
          "data": {
            "text/html": [
              "<div>\n",
              "<style scoped>\n",
              "    .dataframe tbody tr th:only-of-type {\n",
              "        vertical-align: middle;\n",
              "    }\n",
              "\n",
              "    .dataframe tbody tr th {\n",
              "        vertical-align: top;\n",
              "    }\n",
              "\n",
              "    .dataframe thead th {\n",
              "        text-align: right;\n",
              "    }\n",
              "</style>\n",
              "<table border=\"1\" class=\"dataframe\">\n",
              "  <thead>\n",
              "    <tr style=\"text-align: right;\">\n",
              "      <th></th>\n",
              "      <th>id</th>\n",
              "      <th>breed</th>\n",
              "    </tr>\n",
              "  </thead>\n",
              "  <tbody>\n",
              "    <tr>\n",
              "      <th>0</th>\n",
              "      <td>000bec180eb18c7604dcecc8fe0dba07</td>\n",
              "      <td>boston_bull</td>\n",
              "    </tr>\n",
              "    <tr>\n",
              "      <th>1</th>\n",
              "      <td>001513dfcb2ffafc82cccf4d8bbaba97</td>\n",
              "      <td>dingo</td>\n",
              "    </tr>\n",
              "    <tr>\n",
              "      <th>2</th>\n",
              "      <td>001cdf01b096e06d78e9e5112d419397</td>\n",
              "      <td>pekinese</td>\n",
              "    </tr>\n",
              "    <tr>\n",
              "      <th>3</th>\n",
              "      <td>00214f311d5d2247d5dfe4fe24b2303d</td>\n",
              "      <td>bluetick</td>\n",
              "    </tr>\n",
              "    <tr>\n",
              "      <th>4</th>\n",
              "      <td>0021f9ceb3235effd7fcde7f7538ed62</td>\n",
              "      <td>golden_retriever</td>\n",
              "    </tr>\n",
              "  </tbody>\n",
              "</table>\n",
              "</div>"
            ],
            "text/plain": [
              "                                 id             breed\n",
              "0  000bec180eb18c7604dcecc8fe0dba07       boston_bull\n",
              "1  001513dfcb2ffafc82cccf4d8bbaba97             dingo\n",
              "2  001cdf01b096e06d78e9e5112d419397          pekinese\n",
              "3  00214f311d5d2247d5dfe4fe24b2303d          bluetick\n",
              "4  0021f9ceb3235effd7fcde7f7538ed62  golden_retriever"
            ]
          },
          "metadata": {
            "tags": []
          },
          "execution_count": 6
        }
      ]
    },
    {
      "cell_type": "code",
      "metadata": {
        "id": "92a4fpQyr25N",
        "colab": {
          "base_uri": "https://localhost:8080/",
          "height": 450
        },
        "outputId": "bb60a163-a556-4928-99dc-cf9cf41b53e6"
      },
      "source": [
        "# How many images are there of each breed?\n",
        "labels_csv['breed'].value_counts().plot.bar(figsize=(20,10))"
      ],
      "execution_count": 7,
      "outputs": [
        {
          "output_type": "execute_result",
          "data": {
            "text/plain": [
              "<matplotlib.axes._subplots.AxesSubplot at 0x7f2071348790>"
            ]
          },
          "metadata": {
            "tags": []
          },
          "execution_count": 7
        },
        {
          "output_type": "display_data",
          "data": {
            "image/png": "[encoded data removed]",
            "text/plain": [
              "<Figure size 1440x720 with 1 Axes>"
            ]
          },
          "metadata": {
            "tags": [],
            "needs_background": "light"
          }
        }
      ]
    },
    {
      "cell_type": "code",
      "metadata": {
        "colab": {
          "base_uri": "https://localhost:8080/"
        },
        "id": "LtGCTbvQorXb",
        "outputId": "bfcf5342-9706-4b82-b1ef-55c8d4f3b49b"
      },
      "source": [
        "labels_csv['breed'].value_counts().median()"
      ],
      "execution_count": 8,
      "outputs": [
        {
          "output_type": "execute_result",
          "data": {
            "text/plain": [
              "82.0"
            ]
          },
          "metadata": {
            "tags": []
          },
          "execution_count": 8
        }
      ]
    },
    {
      "cell_type": "code",
      "metadata": {
        "colab": {
          "base_uri": "https://localhost:8080/",
          "height": 392
        },
        "id": "mldHDIQopOxi",
        "outputId": "c8db8519-b1d1-4060-b911-43ed449747b5"
      },
      "source": [
        "# Let's viev an images\n",
        "\n",
        "from IPython.display import Image\n",
        "Image('drive/My Drive/Dog Vision/train/001cdf01b096e06d78e9e5112d419397.jpg')"
      ],
      "execution_count": 9,
      "outputs": [
        {
          "output_type": "execute_result",
          "data": {
            "image/jpeg": "[encoded data removed]",
            "text/plain": [
              "<IPython.core.display.Image object>"
            ]
          },
          "metadata": {
            "tags": []
          },
          "execution_count": 9
        }
      ]
    },
    {
      "cell_type": "markdown",
      "metadata": {
        "id": "RQCqRrKPvDH8"
      },
      "source": [
        "### Getting images and their labels\n",
        "\n",
        "Let's get a list of all of our image file pathnames."
      ]
    },
    {
      "cell_type": "code",
      "metadata": {
        "colab": {
          "base_uri": "https://localhost:8080/"
        },
        "id": "GUrhdB_dvYTI",
        "outputId": "30d090a2-e8f6-4ce7-82e0-c2f55a7cbaea"
      },
      "source": [
        "filenames = [\"drive/MyDrive/Dog Vision/train/\"+fname + \".jpg\" for fname in labels_csv['id']]\n",
        "\n",
        "filenames[:10]"
      ],
      "execution_count": 10,
      "outputs": [
        {
          "output_type": "execute_result",
          "data": {
            "text/plain": [
              "['drive/MyDrive/Dog Vision/train/000bec180eb18c7604dcecc8fe0dba07.jpg',\n",
              " 'drive/MyDrive/Dog Vision/train/001513dfcb2ffafc82cccf4d8bbaba97.jpg',\n",
              " 'drive/MyDrive/Dog Vision/train/001cdf01b096e06d78e9e5112d419397.jpg',\n",
              " 'drive/MyDrive/Dog Vision/train/00214f311d5d2247d5dfe4fe24b2303d.jpg',\n",
              " 'drive/MyDrive/Dog Vision/train/0021f9ceb3235effd7fcde7f7538ed62.jpg',\n",
              " 'drive/MyDrive/Dog Vision/train/002211c81b498ef88e1b40b9abf84e1d.jpg',\n",
              " 'drive/MyDrive/Dog Vision/train/00290d3e1fdd27226ba27a8ce248ce85.jpg',\n",
              " 'drive/MyDrive/Dog Vision/train/002a283a315af96eaea0e28e7163b21b.jpg',\n",
              " 'drive/MyDrive/Dog Vision/train/003df8b8a8b05244b1d920bb6cf451f9.jpg',\n",
              " 'drive/MyDrive/Dog Vision/train/0042188c895a2f14ef64a918ed9c7b64.jpg']"
            ]
          },
          "metadata": {
            "tags": []
          },
          "execution_count": 10
        }
      ]
    },
    {
      "cell_type": "code",
      "metadata": {
        "colab": {
          "base_uri": "https://localhost:8080/"
        },
        "id": "Ng0dBt9gvuTn",
        "outputId": "018a0c69-444a-4cba-e31a-2d4294cc0637"
      },
      "source": [
        "#  Check whether number of filenames matches number of actual image files\n",
        "\n",
        "import os\n",
        "\n",
        "if len(os.listdir('drive/MyDrive/Dog Vision/train/')) == len(filenames):\n",
        "  print('Filenames match actual amount of files!!! Proceed.')\n",
        "else:\n",
        "  print('Filenames to do no match actual amount of files,acheck the target directory.')"
      ],
      "execution_count": 11,
      "outputs": [
        {
          "output_type": "stream",
          "text": [
            "Filenames match actual amount of files!!! Proceed.\n"
          ],
          "name": "stdout"
        }
      ]
    },
    {
      "cell_type": "code",
      "metadata": {
        "colab": {
          "base_uri": "https://localhost:8080/",
          "height": 271
        },
        "id": "kx1KnN1qx-YS",
        "outputId": "5b138a0a-178e-4824-a753-3713eb26757f"
      },
      "source": [
        "Image(filenames[500])"
      ],
      "execution_count": 12,
      "outputs": [
        {
          "output_type": "execute_result",
          "data": {
            "image/jpeg": "[encoded data removed]",
            "text/plain": [
              "<IPython.core.display.Image object>"
            ]
          },
          "metadata": {
            "tags": []
          },
          "execution_count": 12
        }
      ]
    },
    {
      "cell_type": "code",
      "metadata": {
        "colab": {
          "base_uri": "https://localhost:8080/",
          "height": 35
        },
        "id": "R8XqeaxgyZwd",
        "outputId": "2e3f3971-38db-44f5-9507-b24c7b0bc3f0"
      },
      "source": [
        " labels_csv.breed[500]"
      ],
      "execution_count": 13,
      "outputs": [
        {
          "output_type": "execute_result",
          "data": {
            "application/vnd.google.colaboratory.intrinsic+json": {
              "type": "string"
            },
            "text/plain": [
              "'otterhound'"
            ]
          },
          "metadata": {
            "tags": []
          },
          "execution_count": 13
        }
      ]
    },
    {
      "cell_type": "markdown",
      "metadata": {
        "id": "RF-UtHVsymR8"
      },
      "source": [
        "Since we've now got our training image filepaths in a list,let's prepare our labels"
      ]
    },
    {
      "cell_type": "code",
      "metadata": {
        "colab": {
          "base_uri": "https://localhost:8080/"
        },
        "id": "tyjU9yNwaymW",
        "outputId": "da7c3623-c2c9-42fd-dbbc-a15ef4fe4beb"
      },
      "source": [
        "import numpy as np\n",
        "\n",
        "labels = labels_csv['breed'].to_numpy()\n",
        "# labels = np.array(labels) does same thing above\n",
        "labels"
      ],
      "execution_count": 14,
      "outputs": [
        {
          "output_type": "execute_result",
          "data": {
            "text/plain": [
              "array(['boston_bull', 'dingo', 'pekinese', ..., 'airedale',\n",
              "       'miniature_pinscher', 'chesapeake_bay_retriever'], dtype=object)"
            ]
          },
          "metadata": {
            "tags": []
          },
          "execution_count": 14
        }
      ]
    },
    {
      "cell_type": "code",
      "metadata": {
        "colab": {
          "base_uri": "https://localhost:8080/"
        },
        "id": "APs0bVrua_HN",
        "outputId": "f01d4036-0920-4e96-c67e-7f83c3e8b773"
      },
      "source": [
        "len(labels)"
      ],
      "execution_count": 15,
      "outputs": [
        {
          "output_type": "execute_result",
          "data": {
            "text/plain": [
              "10222"
            ]
          },
          "metadata": {
            "tags": []
          },
          "execution_count": 15
        }
      ]
    },
    {
      "cell_type": "code",
      "metadata": {
        "colab": {
          "base_uri": "https://localhost:8080/"
        },
        "id": "WGIesUAHbNvg",
        "outputId": "50308d32-2f58-4a42-b73d-6b48c6c444f0"
      },
      "source": [
        "# See if number of labels matches the number of filenames\n",
        "if len(labels) == len(filenames):\n",
        "  print('Number of labels  matches number of filename')\n",
        "else:\n",
        "  print('Number of labels does not match number of filenames,check data directories')"
      ],
      "execution_count": 16,
      "outputs": [
        {
          "output_type": "stream",
          "text": [
            "Number of labels  matches number of filename\n"
          ],
          "name": "stdout"
        }
      ]
    },
    {
      "cell_type": "code",
      "metadata": {
        "colab": {
          "base_uri": "https://localhost:8080/"
        },
        "id": "JPF2diOWb229",
        "outputId": "97171ecb-2799-4745-b091-6d8bffd36f22"
      },
      "source": [
        "# Find the unique label values\n",
        "\n",
        "unique_breeds = np.unique(labels)\n",
        "len(unique_breeds)"
      ],
      "execution_count": 17,
      "outputs": [
        {
          "output_type": "execute_result",
          "data": {
            "text/plain": [
              "120"
            ]
          },
          "metadata": {
            "tags": []
          },
          "execution_count": 17
        }
      ]
    },
    {
      "cell_type": "code",
      "metadata": {
        "colab": {
          "base_uri": "https://localhost:8080/"
        },
        "id": "iwQnyJ5GcMAX",
        "outputId": "1e3f9708-de11-4a57-8228-05c96d3ae56f"
      },
      "source": [
        "# Turn a single labl into an array og booleans\n",
        "print(labels[0])\n",
        "labels[0] == unique_breeds"
      ],
      "execution_count": 18,
      "outputs": [
        {
          "output_type": "stream",
          "text": [
            "boston_bull\n"
          ],
          "name": "stdout"
        },
        {
          "output_type": "execute_result",
          "data": {
            "text/plain": [
              "array([False, False, False, False, False, False, False, False, False,\n",
              "       False, False, False, False, False, False, False, False, False,\n",
              "       False,  True, False, False, False, False, False, False, False,\n",
              "       False, False, False, False, False, False, False, False, False,\n",
              "       False, False, False, False, False, False, False, False, False,\n",
              "       False, False, False, False, False, False, False, False, False,\n",
              "       False, False, False, False, False, False, False, False, False,\n",
              "       False, False, False, False, False, False, False, False, False,\n",
              "       False, False, False, False, False, False, False, False, False,\n",
              "       False, False, False, False, False, False, False, False, False,\n",
              "       False, False, False, False, False, False, False, False, False,\n",
              "       False, False, False, False, False, False, False, False, False,\n",
              "       False, False, False, False, False, False, False, False, False,\n",
              "       False, False, False])"
            ]
          },
          "metadata": {
            "tags": []
          },
          "execution_count": 18
        }
      ]
    },
    {
      "cell_type": "code",
      "metadata": {
        "colab": {
          "base_uri": "https://localhost:8080/"
        },
        "id": "lpcgZRXBdo-u",
        "outputId": "8e43128f-8a99-4798-c15b-88da4b98b5a4"
      },
      "source": [
        "boolean_labels = [label == unique_breeds for label in labels]\n",
        "boolean_labels[:2] "
      ],
      "execution_count": 19,
      "outputs": [
        {
          "output_type": "execute_result",
          "data": {
            "text/plain": [
              "[array([False, False, False, False, False, False, False, False, False,\n",
              "        False, False, False, False, False, False, False, False, False,\n",
              "        False,  True, False, False, False, False, False, False, False,\n",
              "        False, False, False, False, False, False, False, False, False,\n",
              "        False, False, False, False, False, False, False, False, False,\n",
              "        False, False, False, False, False, False, False, False, False,\n",
              "        False, False, False, False, False, False, False, False, False,\n",
              "        False, False, False, False, False, False, False, False, False,\n",
              "        False, False, False, False, False, False, False, False, False,\n",
              "        False, False, False, False, False, False, False, False, False,\n",
              "        False, False, False, False, False, False, False, False, False,\n",
              "        False, False, False, False, False, False, False, False, False,\n",
              "        False, False, False, False, False, False, False, False, False,\n",
              "        False, False, False]),\n",
              " array([False, False, False, False, False, False, False, False, False,\n",
              "        False, False, False, False, False, False, False, False, False,\n",
              "        False, False, False, False, False, False, False, False, False,\n",
              "        False, False, False, False, False, False, False, False, False,\n",
              "        False,  True, False, False, False, False, False, False, False,\n",
              "        False, False, False, False, False, False, False, False, False,\n",
              "        False, False, False, False, False, False, False, False, False,\n",
              "        False, False, False, False, False, False, False, False, False,\n",
              "        False, False, False, False, False, False, False, False, False,\n",
              "        False, False, False, False, False, False, False, False, False,\n",
              "        False, False, False, False, False, False, False, False, False,\n",
              "        False, False, False, False, False, False, False, False, False,\n",
              "        False, False, False, False, False, False, False, False, False,\n",
              "        False, False, False])]"
            ]
          },
          "metadata": {
            "tags": []
          },
          "execution_count": 19
        }
      ]
    },
    {
      "cell_type": "code",
      "metadata": {
        "colab": {
          "base_uri": "https://localhost:8080/"
        },
        "id": "SiDRv53ZeFQx",
        "outputId": "5e5aeb3c-87d3-461c-e3e8-fcc057b78b97"
      },
      "source": [
        "len(boolean_labels)"
      ],
      "execution_count": 20,
      "outputs": [
        {
          "output_type": "execute_result",
          "data": {
            "text/plain": [
              "10222"
            ]
          },
          "metadata": {
            "tags": []
          },
          "execution_count": 20
        }
      ]
    },
    {
      "cell_type": "code",
      "metadata": {
        "colab": {
          "base_uri": "https://localhost:8080/"
        },
        "id": "yUSDyAgZeJUd",
        "outputId": "7968e2aa-2a93-4834-e82b-b8c3b686359d"
      },
      "source": [
        "# Example: Turning boolean array into integers\n",
        "print(labels[0]) # original label\n",
        "print(np.where(unique_breeds==labels[0])) # index where labell occurs\n",
        "print(boolean_labels[0].argmax()) # index where label occurs in boolean array\n",
        "print(boolean_labels[0].astype(int)) # there will be a 1 where the sample label occurs"
      ],
      "execution_count": 21,
      "outputs": [
        {
          "output_type": "stream",
          "text": [
            "boston_bull\n",
            "(array([19]),)\n",
            "19\n",
            "[0 0 0 0 0 0 0 0 0 0 0 0 0 0 0 0 0 0 0 1 0 0 0 0 0 0 0 0 0 0 0 0 0 0 0 0 0\n",
            " 0 0 0 0 0 0 0 0 0 0 0 0 0 0 0 0 0 0 0 0 0 0 0 0 0 0 0 0 0 0 0 0 0 0 0 0 0\n",
            " 0 0 0 0 0 0 0 0 0 0 0 0 0 0 0 0 0 0 0 0 0 0 0 0 0 0 0 0 0 0 0 0 0 0 0 0 0\n",
            " 0 0 0 0 0 0 0 0 0]\n"
          ],
          "name": "stdout"
        }
      ]
    },
    {
      "cell_type": "code",
      "metadata": {
        "colab": {
          "base_uri": "https://localhost:8080/"
        },
        "id": "qE5W6AJIe0Op",
        "outputId": "c5c31e89-c4fe-4772-ab51-36d25e848e75"
      },
      "source": [
        "print(labels[5])\n",
        "print(boolean_labels[5].astype(int))"
      ],
      "execution_count": 22,
      "outputs": [
        {
          "output_type": "stream",
          "text": [
            "bedlington_terrier\n",
            "[0 0 0 0 0 0 0 0 0 0 1 0 0 0 0 0 0 0 0 0 0 0 0 0 0 0 0 0 0 0 0 0 0 0 0 0 0\n",
            " 0 0 0 0 0 0 0 0 0 0 0 0 0 0 0 0 0 0 0 0 0 0 0 0 0 0 0 0 0 0 0 0 0 0 0 0 0\n",
            " 0 0 0 0 0 0 0 0 0 0 0 0 0 0 0 0 0 0 0 0 0 0 0 0 0 0 0 0 0 0 0 0 0 0 0 0 0\n",
            " 0 0 0 0 0 0 0 0 0]\n"
          ],
          "name": "stdout"
        }
      ]
    },
    {
      "cell_type": "code",
      "metadata": {
        "colab": {
          "base_uri": "https://localhost:8080/"
        },
        "id": "SgazVzpmfK0q",
        "outputId": "20a3da73-5636-41a9-de94-79fb6ac608ed"
      },
      "source": [
        "filenames[:5]"
      ],
      "execution_count": 23,
      "outputs": [
        {
          "output_type": "execute_result",
          "data": {
            "text/plain": [
              "['drive/MyDrive/Dog Vision/train/000bec180eb18c7604dcecc8fe0dba07.jpg',\n",
              " 'drive/MyDrive/Dog Vision/train/001513dfcb2ffafc82cccf4d8bbaba97.jpg',\n",
              " 'drive/MyDrive/Dog Vision/train/001cdf01b096e06d78e9e5112d419397.jpg',\n",
              " 'drive/MyDrive/Dog Vision/train/00214f311d5d2247d5dfe4fe24b2303d.jpg',\n",
              " 'drive/MyDrive/Dog Vision/train/0021f9ceb3235effd7fcde7f7538ed62.jpg']"
            ]
          },
          "metadata": {
            "tags": []
          },
          "execution_count": 23
        }
      ]
    },
    {
      "cell_type": "markdown",
      "metadata": {
        "id": "Sucv7ZYTfQIN"
      },
      "source": [
        "### Creating oun validation set\n",
        "\n",
        "Since the dataset from Kaggle doesn't come with a validation set,we're going to create our own."
      ]
    },
    {
      "cell_type": "code",
      "metadata": {
        "id": "4mN2gR1bloFo"
      },
      "source": [
        "# Setup X & y variables\n",
        "X = filenames\n",
        "y = boolean_labels"
      ],
      "execution_count": 24,
      "outputs": []
    },
    {
      "cell_type": "markdown",
      "metadata": {
        "id": "4be4OLPwly_L"
      },
      "source": [
        "We're going to start off experimenting with ~1000 images and increse as needed"
      ]
    },
    {
      "cell_type": "code",
      "metadata": {
        "id": "FEvdx5JkmACz"
      },
      "source": [
        "# Set number of images to use for experimenting\n",
        "\n",
        "NUM_IMAGES = 1000 #@param{type:'slider',min:1000,max:10000,step:1000}"
      ],
      "execution_count": 25,
      "outputs": []
    },
    {
      "cell_type": "code",
      "metadata": {
        "colab": {
          "base_uri": "https://localhost:8080/"
        },
        "id": "PWlxpqk3md3E",
        "outputId": "b243b885-a6f0-45b2-c6c5-6beacb781c85"
      },
      "source": [
        "# Let's split our data into train and validation sets\n",
        "\n",
        "from sklearn.model_selection import train_test_split\n",
        "\n",
        "# Split them into training and validation of total size NUM_IMAGES\n",
        "X_train,X_val,y_train,y_val = train_test_split(X[:NUM_IMAGES],\n",
        "                                               y[:NUM_IMAGES],\n",
        "                                               test_size=0.2,\n",
        "                                               random_state=42)\n",
        "\n",
        "len(X_train),len(y_train),len(X_val),len(y_val)"
      ],
      "execution_count": 26,
      "outputs": [
        {
          "output_type": "execute_result",
          "data": {
            "text/plain": [
              "(800, 800, 200, 200)"
            ]
          },
          "metadata": {
            "tags": []
          },
          "execution_count": 26
        }
      ]
    },
    {
      "cell_type": "code",
      "metadata": {
        "colab": {
          "base_uri": "https://localhost:8080/"
        },
        "id": "PXd9oTb7nONd",
        "outputId": "3cb389bb-e115-44be-f187-0c2d7661ee0f"
      },
      "source": [
        "# Let's have a geez at the training data\n",
        "X_train[:3],y_train[:3]"
      ],
      "execution_count": 27,
      "outputs": [
        {
          "output_type": "execute_result",
          "data": {
            "text/plain": [
              "(['drive/MyDrive/Dog Vision/train/00bee065dcec471f26394855c5c2f3de.jpg',\n",
              "  'drive/MyDrive/Dog Vision/train/0d2f9e12a2611d911d91a339074c8154.jpg',\n",
              "  'drive/MyDrive/Dog Vision/train/1108e48ce3e2d7d7fb527ae6e40ab486.jpg'],\n",
              " [array([False, False, False, False, False, False, False, False, False,\n",
              "         False, False, False, False, False, False, False, False, False,\n",
              "         False, False, False, False, False, False, False, False,  True,\n",
              "         False, False, False, False, False, False, False, False, False,\n",
              "         False, False, False, False, False, False, False, False, False,\n",
              "         False, False, False, False, False, False, False, False, False,\n",
              "         False, False, False, False, False, False, False, False, False,\n",
              "         False, False, False, False, False, False, False, False, False,\n",
              "         False, False, False, False, False, False, False, False, False,\n",
              "         False, False, False, False, False, False, False, False, False,\n",
              "         False, False, False, False, False, False, False, False, False,\n",
              "         False, False, False, False, False, False, False, False, False,\n",
              "         False, False, False, False, False, False, False, False, False,\n",
              "         False, False, False]),\n",
              "  array([False, False, False, False, False, False, False, False, False,\n",
              "         False, False, False, False, False, False, False, False, False,\n",
              "         False, False,  True, False, False, False, False, False, False,\n",
              "         False, False, False, False, False, False, False, False, False,\n",
              "         False, False, False, False, False, False, False, False, False,\n",
              "         False, False, False, False, False, False, False, False, False,\n",
              "         False, False, False, False, False, False, False, False, False,\n",
              "         False, False, False, False, False, False, False, False, False,\n",
              "         False, False, False, False, False, False, False, False, False,\n",
              "         False, False, False, False, False, False, False, False, False,\n",
              "         False, False, False, False, False, False, False, False, False,\n",
              "         False, False, False, False, False, False, False, False, False,\n",
              "         False, False, False, False, False, False, False, False, False,\n",
              "         False, False, False]),\n",
              "  array([False, False, False, False, False, False, False, False, False,\n",
              "         False, False, False, False, False, False, False, False, False,\n",
              "         False, False, False, False, False, False, False, False, False,\n",
              "         False, False, False, False, False, False, False, False, False,\n",
              "         False, False, False, False, False, False, False, False, False,\n",
              "         False, False, False, False, False, False, False, False, False,\n",
              "         False, False, False, False, False, False, False, False, False,\n",
              "         False, False, False, False, False, False, False, False, False,\n",
              "         False,  True, False, False, False, False, False, False, False,\n",
              "         False, False, False, False, False, False, False, False, False,\n",
              "         False, False, False, False, False, False, False, False, False,\n",
              "         False, False, False, False, False, False, False, False, False,\n",
              "         False, False, False, False, False, False, False, False, False,\n",
              "         False, False, False])])"
            ]
          },
          "metadata": {
            "tags": []
          },
          "execution_count": 27
        }
      ]
    },
    {
      "cell_type": "markdown",
      "metadata": {
        "id": "yHDZ6AO8nsGh"
      },
      "source": [
        "## Preprocessing Images(Turning images into Tensors)\n",
        "\n",
        "To preprocess our images into Tensor we're going to write a function that does a few things:\n",
        "\n",
        "1. Take an image filepath in the input\n",
        "2. Use TensorFlow to read the file and save it to a variable,`image`\n",
        "3. Turn our `image`(a jpg) into Tensors\n",
        "4. Normalize our image (convert color channel values from 0-255 to 0-1 )\n",
        "5. Resize the `image` to be a shape of (224,224)\n",
        "6. Return the modified `image`\n",
        "\n",
        "Before we,do let's see what importing an image look like."
      ]
    },
    {
      "cell_type": "code",
      "metadata": {
        "colab": {
          "base_uri": "https://localhost:8080/"
        },
        "id": "NXV9opK52w5e",
        "outputId": "56f89a8c-7151-46c3-b96d-9782cb374b1d"
      },
      "source": [
        "# Convert image to NumPy array\n",
        "from matplotlib.pyplot import imread\n",
        "image = imread(filenames[40])\n",
        "image.shape"
      ],
      "execution_count": 33,
      "outputs": [
        {
          "output_type": "execute_result",
          "data": {
            "text/plain": [
              "(293, 400, 3)"
            ]
          },
          "metadata": {
            "tags": []
          },
          "execution_count": 33
        }
      ]
    },
    {
      "cell_type": "code",
      "metadata": {
        "colab": {
          "base_uri": "https://localhost:8080/"
        },
        "id": "oC7EQNKH3I4U",
        "outputId": "71f9acd2-ddde-43de-d732-fd267411c61b"
      },
      "source": [
        "image.max(),image.min()"
      ],
      "execution_count": 34,
      "outputs": [
        {
          "output_type": "execute_result",
          "data": {
            "text/plain": [
              "(255, 0)"
            ]
          },
          "metadata": {
            "tags": []
          },
          "execution_count": 34
        }
      ]
    },
    {
      "cell_type": "code",
      "metadata": {
        "colab": {
          "base_uri": "https://localhost:8080/"
        },
        "id": "HSX3QORY3bsY",
        "outputId": "b093ea79-8dfa-4bf5-d4d1-4f84ea3d4373"
      },
      "source": [
        "image[:2]"
      ],
      "execution_count": 38,
      "outputs": [
        {
          "output_type": "execute_result",
          "data": {
            "text/plain": [
              "array([[[255, 246, 252],\n",
              "        [254, 237, 243],\n",
              "        [253, 237, 240],\n",
              "        ...,\n",
              "        [112, 164,  89],\n",
              "        [ 99, 151,  79],\n",
              "        [ 94, 146,  74]],\n",
              "\n",
              "       [[255, 250, 248],\n",
              "        [255, 251, 249],\n",
              "        [255, 246, 242],\n",
              "        ...,\n",
              "        [ 96, 148,  74],\n",
              "        [ 88, 140,  68],\n",
              "        [ 90, 141,  72]]], dtype=uint8)"
            ]
          },
          "metadata": {
            "tags": []
          },
          "execution_count": 38
        }
      ]
    },
    {
      "cell_type": "code",
      "metadata": {
        "colab": {
          "base_uri": "https://localhost:8080/"
        },
        "id": "w751h4hi3d0e",
        "outputId": "a9a4e546-9127-4a49-a878-204a886cf3c6"
      },
      "source": [
        "tf.constant(image)[:2]"
      ],
      "execution_count": 37,
      "outputs": [
        {
          "output_type": "execute_result",
          "data": {
            "text/plain": [
              "<tf.Tensor: shape=(2, 400, 3), dtype=uint8, numpy=\n",
              "array([[[255, 246, 252],\n",
              "        [254, 237, 243],\n",
              "        [253, 237, 240],\n",
              "        ...,\n",
              "        [112, 164,  89],\n",
              "        [ 99, 151,  79],\n",
              "        [ 94, 146,  74]],\n",
              "\n",
              "       [[255, 250, 248],\n",
              "        [255, 251, 249],\n",
              "        [255, 246, 242],\n",
              "        ...,\n",
              "        [ 96, 148,  74],\n",
              "        [ 88, 140,  68],\n",
              "        [ 90, 141,  72]]], dtype=uint8)>"
            ]
          },
          "metadata": {
            "tags": []
          },
          "execution_count": 37
        }
      ]
    },
    {
      "cell_type": "markdown",
      "metadata": {
        "id": "2X_dWFbu3iSH"
      },
      "source": [
        "Now we've seen what an image looks like as a Tensor, let's make a function to preprocess them.\n",
        "\n",
        "1. Take an image filepath in input\n",
        "2. Use TensorFlow to read the file and save in to a variable,`image`\n",
        "3. Turn our `image`(a jpg) into Tensors\n",
        "4. Normalize our image (convert color channel values from 0-255 to 0-1 )\n",
        "5. Resize the `image` to be a shape of (224,224)\n",
        "6. Return the modified `image`\n",
        "\n",
        "\n",
        "More information on loading images in TensorFlow can be see here: https://www.tensorflow.org/tutorials/load_data/images"
      ]
    },
    {
      "cell_type": "code",
      "metadata": {
        "id": "hC2QiOcB7tL5"
      },
      "source": [
        "# Define image size\n",
        "IMG_SIZE = 224\n",
        "\n",
        "# Create a function for preprocessing images\n",
        "\n",
        "def process_image(image_path):\n",
        "  \"\"\"\n",
        "  Takes an image file path and turns the image into a Tensor.\n",
        "  \"\"\"\n",
        "  # Read in an image file\n",
        "  image = tf.io.read_file(image_path)\n",
        "  # Turn the jpeg image into numerical Tensor with 3 color channels(R,G,B)\n",
        "  image = tf.image.decode_jpeg(image,channels=3)\n",
        "  # Convert the color channel values from 0-255 to 0-1 values\n",
        "  image = tf.image.convert_image_dtype(image,tf.float32)\n",
        "  # Resize the image to our desired value (224,224)\n",
        "  image = tf.image.resize(image,size=[IMG_SIZE,IMG_SIZE])\n",
        "\n",
        "  return image"
      ],
      "execution_count": 49,
      "outputs": []
    },
    {
      "cell_type": "markdown",
      "metadata": {
        "id": "shV3g20i_zTx"
      },
      "source": [
        "## Turning our data into batches\n",
        "\n",
        "Why turn out data into batches?\n",
        "\n",
        "Let's say you'tr trying to process 10,000+ images in one go..they all might not fit into memory.\n",
        "\n",
        "So that's why we do about 32(this is rhe batch size)images at a time(you can manually adjust the batch size if need be).\n",
        "\n",
        "In order to use TensorFlow effrctively,we need our data in the form of Tensor tuples which look like this:`(image,label)`"
      ]
    },
    {
      "cell_type": "code",
      "metadata": {
        "id": "NvB38exVF6YK"
      },
      "source": [
        "# Create a simple function to return a tuple(image,label)\n",
        "def get_image_label(image_path,label):\n",
        "  \n",
        "  \"\"\"\n",
        "  Takes an image file path name and the associated label,\n",
        "  precesses the image and returns a typle of (image,label).\n",
        "  \"\"\"\n",
        "  image = process_image(image_path)\n",
        "  return image,label"
      ],
      "execution_count": 50,
      "outputs": []
    },
    {
      "cell_type": "code",
      "metadata": {
        "colab": {
          "base_uri": "https://localhost:8080/"
        },
        "id": "E7pUMJaYGcY8",
        "outputId": "607f2437-454b-4b10-e6ca-3ee5c45303dd"
      },
      "source": [
        "# Demo of above\n",
        "(process_image(X[40]),y[40])"
      ],
      "execution_count": 51,
      "outputs": [
        {
          "output_type": "execute_result",
          "data": {
            "text/plain": [
              "(<tf.Tensor: shape=(224, 224, 3), dtype=float32, numpy=\n",
              " array([[[0.99609005, 0.96119833, 0.95770377],\n",
              "         [0.98501533, 0.94666374, 0.93379605],\n",
              "         [0.99749774, 0.9770274 , 0.9565523 ],\n",
              "         ...,\n",
              "         [0.34569168, 0.5497533 , 0.22850783],\n",
              "         [0.4276134 , 0.6322353 , 0.33483163],\n",
              "         [0.36833197, 0.5772412 , 0.29097825]],\n",
              " \n",
              "        [[0.9687435 , 0.965289  , 0.9172323 ],\n",
              "         [0.94134724, 0.93233955, 0.8760108 ],\n",
              "         [0.92182285, 0.9180851 , 0.8512452 ],\n",
              "         ...,\n",
              "         [0.36644298, 0.57037514, 0.24943131],\n",
              "         [0.36225268, 0.5662274 , 0.2703323 ],\n",
              "         [0.34930357, 0.5534058 , 0.27435333]],\n",
              " \n",
              "        [[0.82989013, 0.87487435, 0.75133675],\n",
              "         [0.7506709 , 0.7958162 , 0.66784185],\n",
              "         [0.75523835, 0.8078179 , 0.67545015],\n",
              "         ...,\n",
              "         [0.40426058, 0.60512996, 0.2932135 ],\n",
              "         [0.35947898, 0.55773896, 0.2682605 ],\n",
              "         [0.38644102, 0.5856088 , 0.3115852 ]],\n",
              " \n",
              "        ...,\n",
              " \n",
              "        [[0.45484307, 0.5300532 , 0.29153773],\n",
              "         [0.4443269 , 0.5551112 , 0.3481084 ],\n",
              "         [0.5146341 , 0.6782195 , 0.34446597],\n",
              "         ...,\n",
              "         [0.5536158 , 0.61271936, 0.44423196],\n",
              "         [0.47993436, 0.5594859 , 0.39800125],\n",
              "         [0.6385645 , 0.7232985 , 0.57273823]],\n",
              " \n",
              "        [[0.4501254 , 0.52533543, 0.28682005],\n",
              "         [0.47505242, 0.5858367 , 0.37883392],\n",
              "         [0.4795202 , 0.6431056 , 0.30935213],\n",
              "         ...,\n",
              "         [0.5313988 , 0.5905024 , 0.42201495],\n",
              "         [0.4808388 , 0.5603903 , 0.3989057 ],\n",
              "         [0.6264653 , 0.7111993 , 0.560639  ]],\n",
              " \n",
              "        [[0.40721306, 0.4857407 , 0.23928683],\n",
              "         [0.45057538, 0.5613597 , 0.3489066 ],\n",
              "         [0.4717512 , 0.63533664, 0.30158314],\n",
              "         ...,\n",
              "         [0.5174639 , 0.5765675 , 0.4080801 ],\n",
              "         [0.4753513 , 0.5549028 , 0.3934182 ],\n",
              "         [0.56794757, 0.65268147, 0.50212127]]], dtype=float32)>,\n",
              " array([False, False, False, False, False, False, False, False, False,\n",
              "        False, False, False, False, False, False, False, False, False,\n",
              "        False, False, False, False, False, False, False, False, False,\n",
              "        False, False, False, False, False, False, False, False, False,\n",
              "        False, False, False, False, False, False, False, False, False,\n",
              "        False, False, False, False, False, False, False, False, False,\n",
              "        False, False, False, False, False, False, False, False, False,\n",
              "        False, False, False, False, False,  True, False, False, False,\n",
              "        False, False, False, False, False, False, False, False, False,\n",
              "        False, False, False, False, False, False, False, False, False,\n",
              "        False, False, False, False, False, False, False, False, False,\n",
              "        False, False, False, False, False, False, False, False, False,\n",
              "        False, False, False, False, False, False, False, False, False,\n",
              "        False, False, False]))"
            ]
          },
          "metadata": {
            "tags": []
          },
          "execution_count": 51
        }
      ]
    },
    {
      "cell_type": "markdown",
      "metadata": {
        "id": "-T8ROKbrGllk"
      },
      "source": [
        "Now we 'vw got a way to turn our data into tuples of Tensors in the form:`(image,label)`,let's a mae a function to turn all of our data (`X` & `y`) into batches!!"
      ]
    },
    {
      "cell_type": "code",
      "metadata": {
        "id": "MW-aEpFsIYGF"
      },
      "source": [
        "# Define the batch size, 32 is a good start\n",
        "BATCH_SIZE = 32\n",
        "\n",
        "# Create a function to turn data into batches\n",
        "\n",
        "def create_data_batches(X,y=None,batch_size=BATCH_SIZE,valide_data=False,test_data=False):\n",
        "  \"\"\"\n",
        "  Creates batches of data out of image(X) and label (y) pairs.\n",
        "  Shuffles the data if it's training data but doesn't shuffle if it's validation data.\n",
        "  Also accepts test data as input (no labels).\n",
        "  \"\"\"\n",
        "  # If the data is test dataset, we probebly don't have labels\n",
        "  if test_data:\n",
        "    print('Creating test data batches...')\n",
        "    data = tf.data.Dataset.from_tensor_slices((tf.constant(X))) # only filepaths (no labels)\n",
        "    data_batch = data.map(process_image).batch(BATCH_SIZE)\n",
        "    return data_batch\n",
        "  \n",
        "  # If the data is a valid dataset, we don't need to shuffle if\n",
        "\n",
        "  elif valide_data:\n",
        "    print('Creating validation data batches...')\n",
        "    data = tf.data.Dataset.from_tensor_slices((tf.constant(X), # filepaths\n",
        "                                               tf.constant(y))) # labels\n",
        "    data_batch = data.map(get_image_label).batch(BATCH_SIZE)\n",
        "    return data_batch\n",
        "  \n",
        "  else:\n",
        "    print('Creating training data batches...')\n",
        "\n",
        "    # Turn filepath and labels into Tensors  \n",
        "    data = tf.data.Dataset.from_tensor_slices((tf.constant(X),\n",
        "                                               tf.constant(y)))\n",
        "    # Shuffling pathnames and labels before mapping images processor function in faster than shuffling images.\n",
        "    data = data.shuffle(buffer_size=len(X))\n",
        " \n",
        "    # Create (image,label) tuples (this also turn the image path into a preprocessed image)\n",
        "    data = data.map(get_image_label)\n",
        "\n",
        "    # Turn the training data into batches\n",
        "    data_batch = data.batch(BATCH_SIZE)\n",
        "  return data_batch"
      ],
      "execution_count": 67,
      "outputs": []
    },
    {
      "cell_type": "code",
      "metadata": {
        "colab": {
          "base_uri": "https://localhost:8080/"
        },
        "id": "ocBdK9w-L3C0",
        "outputId": "39bb7c56-be8f-4a71-f502-43fe469936af"
      },
      "source": [
        "# Create training and validating data batches\n",
        "train_data = create_data_batches(X_train,y_train)\n",
        "val_data = create_data_batches(X_val,y_val,valide_data=True)"
      ],
      "execution_count": 73,
      "outputs": [
        {
          "output_type": "stream",
          "text": [
            "Creating training data batches...\n",
            "Creating validation data batches...\n"
          ],
          "name": "stdout"
        }
      ]
    },
    {
      "cell_type": "code",
      "metadata": {
        "colab": {
          "base_uri": "https://localhost:8080/"
        },
        "id": "JT95B7O-Oh6j",
        "outputId": "3f5ceabd-924b-4070-e6db-00a6c827375a"
      },
      "source": [
        "# Check out the different attributes of our data batches\n",
        "train_data.element_spec,val_data.element_spec"
      ],
      "execution_count": 74,
      "outputs": [
        {
          "output_type": "execute_result",
          "data": {
            "text/plain": [
              "((TensorSpec(shape=(None, 224, 224, 3), dtype=tf.float32, name=None),\n",
              "  TensorSpec(shape=(None, 120), dtype=tf.bool, name=None)),\n",
              " (TensorSpec(shape=(None, 224, 224, 3), dtype=tf.float32, name=None),\n",
              "  TensorSpec(shape=(None, 120), dtype=tf.bool, name=None)))"
            ]
          },
          "metadata": {
            "tags": []
          },
          "execution_count": 74
        }
      ]
    },
    {
      "cell_type": "code",
      "metadata": {
        "colab": {
          "base_uri": "https://localhost:8080/"
        },
        "id": "IYLBN1mLQAUI",
        "outputId": "a9f1ab3c-3e51-4927-9ccc-d27ab579adc7"
      },
      "source": [
        "val_data"
      ],
      "execution_count": 78,
      "outputs": [
        {
          "output_type": "execute_result",
          "data": {
            "text/plain": [
              "<BatchDataset shapes: ((None, 224, 224, 3), (None, 120)), types: (tf.float32, tf.bool)>"
            ]
          },
          "metadata": {
            "tags": []
          },
          "execution_count": 78
        }
      ]
    },
    {
      "cell_type": "code",
      "metadata": {
        "colab": {
          "base_uri": "https://localhost:8080/"
        },
        "id": "0Inxuk91QpF6",
        "outputId": "7dbc10d4-e3b5-4458-d96c-c15f5c15bcf0"
      },
      "source": [
        "train_data"
      ],
      "execution_count": 79,
      "outputs": [
        {
          "output_type": "execute_result",
          "data": {
            "text/plain": [
              "<BatchDataset shapes: ((None, 224, 224, 3), (None, 120)), types: (tf.float32, tf.bool)>"
            ]
          },
          "metadata": {
            "tags": []
          },
          "execution_count": 79
        }
      ]
    },
    {
      "cell_type": "code",
      "metadata": {
        "id": "m6uP6tXFQzhf"
      },
      "source": [
        ""
      ],
      "execution_count": null,
      "outputs": []
    }
  ]
}